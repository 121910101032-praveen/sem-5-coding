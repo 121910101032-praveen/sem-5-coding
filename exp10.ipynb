{
  "nbformat": 4,
  "nbformat_minor": 0,
  "metadata": {
    "colab": {
      "name": "Untitled4.ipynb",
      "provenance": [],
      "authorship_tag": "ABX9TyM8gD6F/3X4E7bE8QaHJ/sJ",
      "include_colab_link": true
    },
    "kernelspec": {
      "name": "python3",
      "display_name": "Python 3"
    },
    "language_info": {
      "name": "python"
    }
  },
  "cells": [
    {
      "cell_type": "markdown",
      "metadata": {
        "id": "view-in-github",
        "colab_type": "text"
      },
      "source": [
        "<a href=\"https://colab.research.google.com/github/121910101032-praveen/sem-5-coding/blob/main/exp10.ipynb\" target=\"_parent\"><img src=\"https://colab.research.google.com/assets/colab-badge.svg\" alt=\"Open In Colab\"/></a>"
      ]
    },
    {
      "cell_type": "code",
      "metadata": {
        "colab": {
          "base_uri": "https://localhost:8080/"
        },
        "id": "wJ-_0QmxCvkJ",
        "outputId": "bf22f754-eb61-4f50-b6a2-45c3378eee4a"
      },
      "source": [
        "#hashing using list\n",
        "\n",
        "import csv\n",
        "csdc=[]\n",
        "\n",
        "with open('/content/CSDC.csv','r') as f:\n",
        "  for line in f:\n",
        "    token = line.split(',')\n",
        "    day = token[0]\n",
        "    price= token[1]\n",
        "    csdc.append([day,price])    \n",
        "print(\"\\n\", csdc)\n",
        "print(\"\\n\", csdc[1])\n",
        "\n",
        "for element in csdc:\n",
        "  if element[0]==\"Mar 2\":\n",
        "    print(\"\\n\", element[1])"
      ],
      "execution_count": 2,
      "outputs": [
        {
          "output_type": "stream",
          "name": "stdout",
          "text": [
            "\n",
            " [['Mar 1', '200\\n'], ['Mar 2', '275\\n'], ['Mar 3', '260\\n'], ['Mar 4', '250\\n'], ['Mar 5', '290']]\n",
            "\n",
            " ['Mar 2', '275\\n']\n",
            "\n",
            " 275\n",
            "\n"
          ]
        }
      ]
    }
  ]
}