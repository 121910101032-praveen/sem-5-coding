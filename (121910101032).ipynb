{
  "nbformat": 4,
  "nbformat_minor": 0,
  "metadata": {
    "colab": {
      "name": "(121910101032) ",
      "provenance": [],
      "authorship_tag": "ABX9TyOJi9X4kx9Jh8vfASxoR5Vt",
      "include_colab_link": true
    },
    "kernelspec": {
      "name": "python3",
      "display_name": "Python 3"
    },
    "language_info": {
      "name": "python"
    }
  },
  "cells": [
    {
      "cell_type": "markdown",
      "metadata": {
        "id": "view-in-github",
        "colab_type": "text"
      },
      "source": [
        "<a href=\"https://colab.research.google.com/github/121910101032-praveen/sem-5-coding/blob/main/(121910101032).ipynb\" target=\"_parent\"><img src=\"https://colab.research.google.com/assets/colab-badge.svg\" alt=\"Open In Colab\"/></a>"
      ]
    },
    {
      "cell_type": "code",
      "metadata": {
        "colab": {
          "base_uri": "https://localhost:8080/"
        },
        "id": "okEVma6WiWY0",
        "outputId": "afb27771-b4ea-4197-8bad-96f91fef6e14"
      },
      "source": [
        "A = {1,2,3,4,5}\n",
        "B = {5,6,7}\n",
        "\n",
        "print(2 in A)\n",
        "\n",
        "type(2 in A)"
      ],
      "execution_count": null,
      "outputs": [
        {
          "output_type": "stream",
          "name": "stdout",
          "text": [
            "True\n"
          ]
        },
        {
          "output_type": "execute_result",
          "data": {
            "text/plain": [
              "bool"
            ]
          },
          "metadata": {},
          "execution_count": 1
        }
      ]
    },
    {
      "cell_type": "code",
      "metadata": {
        "colab": {
          "base_uri": "https://localhost:8080/"
        },
        "id": "AmmycVa4iibC",
        "outputId": "d02c126c-6481-496f-88db-421f4e32e69c"
      },
      "source": [
        "A = {1,2,3,4,5}\n",
        "B = {5,6,7}\n",
        "\n",
        "B.issubset(A)"
      ],
      "execution_count": null,
      "outputs": [
        {
          "output_type": "execute_result",
          "data": {
            "text/plain": [
              "False"
            ]
          },
          "metadata": {},
          "execution_count": 2
        }
      ]
    },
    {
      "cell_type": "code",
      "metadata": {
        "colab": {
          "base_uri": "https://localhost:8080/"
        },
        "id": "zePKD1l0ixB1",
        "outputId": "6b063c21-7674-420a-d9d9-c282f23fbb22"
      },
      "source": [
        "def is_subset(A,B):\n",
        "   for  e in A:\n",
        "     if e in B:\n",
        "       pass\n",
        "     \n",
        "     else:\n",
        "     \n",
        "       return False\n",
        "   \n",
        "   \n",
        "   return True\n",
        "\n",
        "\n",
        "\n",
        "     \n",
        "A = {1,2,3,4,5}\n",
        "B = {5,6,7}\n",
        "\n",
        "sub = is_subset(A,B)\n",
        "\n",
        "print(sub)"
      ],
      "execution_count": null,
      "outputs": [
        {
          "output_type": "stream",
          "name": "stdout",
          "text": [
            "False\n"
          ]
        }
      ]
    },
    {
      "cell_type": "code",
      "metadata": {
        "colab": {
          "base_uri": "https://localhost:8080/"
        },
        "id": "sDArPzy8jF-_",
        "outputId": "bf87cb68-d3d3-4ab6-d331-75f752de4a54"
      },
      "source": [
        "import numpy as np\n",
        "\n",
        "uni = set(np.arange(10))\n",
        "A = set(np.arange(0,9,2))\n",
        "B = set(np.arange(0,9,3))\n",
        "\n",
        "print(\"\\nUniversal Set: \",uni)\n",
        "print(\"\\nSet: \", A)\n",
        "print(\"\\nSet: \",B)\n",
        "\n",
        "A.union(B)"
      ],
      "execution_count": null,
      "outputs": [
        {
          "output_type": "stream",
          "name": "stdout",
          "text": [
            "\n",
            "Universal Set:  {0, 1, 2, 3, 4, 5, 6, 7, 8, 9}\n",
            "\n",
            "Set:  {0, 2, 4, 6, 8}\n",
            "\n",
            "Set:  {0, 3, 6}\n"
          ]
        },
        {
          "output_type": "execute_result",
          "data": {
            "text/plain": [
              "{0, 2, 3, 4, 6, 8}"
            ]
          },
          "metadata": {},
          "execution_count": 6
        }
      ]
    }
  ]
}